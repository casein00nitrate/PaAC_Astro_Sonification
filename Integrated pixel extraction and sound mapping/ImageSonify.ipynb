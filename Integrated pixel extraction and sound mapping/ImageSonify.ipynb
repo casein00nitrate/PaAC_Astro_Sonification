{
 "cells": [
  {
   "cell_type": "code",
   "execution_count": 10,
   "id": "8674ddf9-c786-4c64-abab-4e8303d8ff45",
   "metadata": {},
   "outputs": [
    {
     "name": "stdout",
     "output_type": "stream",
     "text": [
      "Welcome to the Image Sonification Tool!\n"
     ]
    },
    {
     "name": "stdin",
     "output_type": "stream",
     "text": [
      "Enter the path to your image file (.npy, .png, .jpg):  D:\\PaAC\\Astro Sonification\\Assignment 5\\high_res_galaxy_image.npy\n",
      "Enter the path to save the output sound file (e.g., output.wav):  D:\\PaAC\\Astro Sonification\\Assignment 5\\0output.wav\n"
     ]
    },
    {
     "name": "stdout",
     "output_type": "stream",
     "text": [
      "Loaded .npy file with shape: (256, 256, 3)\n",
      "Loaded image with shape: (256, 256, 3)\n",
      "Select a sonification mode:\n",
      "1. Brightness-based pitch modulation\n",
      "2. Color-based sound effects\n",
      "3. Spatial stereo mapping\n"
     ]
    },
    {
     "name": "stdin",
     "output_type": "stream",
     "text": [
      "Your choice:  1\n"
     ]
    },
    {
     "name": "stdout",
     "output_type": "stream",
     "text": [
      "Processing the image and generating the audio...\n",
      "Generating sound with image shape: (256, 256, 3)\n"
     ]
    },
    {
     "name": "stderr",
     "output_type": "stream",
     "text": [
      "Processing rows: 100%|███████████████████████████████████████████████████████████████| 256/256 [00:02<00:00, 98.42it/s]"
     ]
    },
    {
     "name": "stdout",
     "output_type": "stream",
     "text": [
      "Audio generation complete!\n",
      "Saving the sound file to D:\\PaAC\\Astro Sonification\\Assignment 5\\0output.wav...\n",
      "Sound file saved successfully to D:\\PaAC\\Astro Sonification\\Assignment 5\\0output.wav\n"
     ]
    },
    {
     "name": "stderr",
     "output_type": "stream",
     "text": [
      "\n"
     ]
    }
   ],
   "source": [
    "import numpy as np\n",
    "import csv\n",
    "from pydub import AudioSegment\n",
    "from pydub.generators import Sine\n",
    "import os\n",
    "from PIL import Image\n",
    "from tqdm import tqdm\n",
    "\n",
    "\n",
    "def load_image(file_path, max_dimensions=(1920, 1080), max_file_size=500 * 1024 * 1024):\n",
    "    \"\"\"Load an image file and return its resized RGB pixel data.\"\"\"\n",
    "    file_size = os.path.getsize(file_path)\n",
    "    if file_size > max_file_size:\n",
    "        print(f\"The file size is {file_size / (1024 ** 2):.2f} MB, which exceeds the maximum allowed size of {max_file_size / (1024 ** 2):.2f} MB.\")\n",
    "        resize = input(\"Do you want to resize or select a smaller portion of the file to reduce memory usage? (y/n): \").strip().lower()\n",
    "        if resize != 'y':\n",
    "            raise ValueError(\"File is too large to process. Exiting as per user choice.\")\n",
    "\n",
    "    if file_path.endswith('.npy'):\n",
    "        try:\n",
    "            image_data = np.load(file_path)\n",
    "            print(f\"Loaded .npy file with shape: {image_data.shape}\")\n",
    "        except MemoryError:\n",
    "            raise ValueError(\"Unable to load the .npy file due to memory constraints.\")\n",
    "\n",
    "        if image_data.ndim == 4:  # Batch of images\n",
    "            print(f\"Detected batch data with {image_data.shape[0]} images of shape {image_data.shape[1:]}.\")\n",
    "            subset_size = min(100, image_data.shape[0])\n",
    "            print(f\"Processing the first {subset_size} images in the batch.\")\n",
    "            image_data = image_data[:subset_size]\n",
    "            image_data = np.vstack(image_data)  # Combine into one image\n",
    "\n",
    "        if image_data.ndim == 3 and image_data.shape[2] != 3:\n",
    "            raise ValueError(f\"Unsupported number of channels in image data: {image_data.shape[2]}\")\n",
    "    else:\n",
    "        image = Image.open(file_path)\n",
    "        if image.mode != 'RGB':\n",
    "            image = image.convert('RGB')\n",
    "        image_data = np.array(image)\n",
    "\n",
    "    if len(image_data.shape) != 3 or image_data.shape[2] != 3:\n",
    "        raise ValueError(f\"Invalid image shape: {image_data.shape}. Expected (height, width, 3).\")\n",
    "\n",
    "    return image_data\n",
    "\n",
    "\n",
    "def pixel_to_sound_brightness(red, green, blue):\n",
    "    \"\"\"Map brightness to pitch modulation.\"\"\"\n",
    "    brightness = (int(red) + int(green) + int(blue)) / 3\n",
    "    frequency = 200 + (brightness / 255) * (2000 - 200)\n",
    "    sound = Sine(frequency).to_audio_segment(duration=0.1)  # Set to 0.01 ms\n",
    "    return sound\n",
    "\n",
    "\n",
    "def pixel_to_sound_color(red, green, blue):\n",
    "    \"\"\"Map RGB to frequency, volume, and duration.\"\"\"\n",
    "    frequency = 200 + (red / 255) * (2000 - 200)\n",
    "    volume = -20 + (green / 255) * 20\n",
    "    duration = 0.1  # Set to 0.01 ms\n",
    "    sound = Sine(frequency).to_audio_segment(duration=duration).apply_gain(volume)\n",
    "    return sound\n",
    "\n",
    "\n",
    "def pixel_to_sound_spatial(red, green, blue, x, width):\n",
    "    \"\"\"Map pixel position to stereo sound.\"\"\"\n",
    "    frequency = 200 + (red / 255) * (2000 - 200)\n",
    "    duration = 0.1  # Set to 0.01 ms\n",
    "    sound = Sine(frequency).to_audio_segment(duration=duration)\n",
    "    pan = (x / width) * 2 - 1  # Map x to range [-1, 1]\n",
    "    return sound.pan(pan)\n",
    "\n",
    "\n",
    "def generate_sound(image_data, mode):\n",
    "    \"\"\"Generate sound from image data based on the selected mode.\"\"\"\n",
    "    print(f\"Generating sound with image shape: {image_data.shape}\")\n",
    "    height, width, _ = image_data.shape\n",
    "    combined_sound = AudioSegment.silent(duration=0)\n",
    "\n",
    "    for row in tqdm(range(height), desc=\"Processing rows\"):\n",
    "        row_sound = AudioSegment.silent(duration=0)  # Combine row-level sounds\n",
    "        for col in range(width):\n",
    "            r, g, b = image_data[row, col]\n",
    "            if mode == 1:\n",
    "                sound = pixel_to_sound_brightness(r, g, b)\n",
    "            elif mode == 2:\n",
    "                sound = pixel_to_sound_color(r, g, b)\n",
    "            elif mode == 3:\n",
    "                sound = pixel_to_sound_spatial(r, g, b, col, width)\n",
    "            row_sound += sound\n",
    "        combined_sound += row_sound\n",
    "    return combined_sound\n",
    "\n",
    "\n",
    "def main():\n",
    "    print(\"Welcome to the Image Sonification Tool!\")\n",
    "    image_path = input(\"Enter the path to your image file (.npy, .png, .jpg): \").strip()\n",
    "    if not os.path.exists(image_path):\n",
    "        print(\"Error: File not found.\")\n",
    "        return\n",
    "\n",
    "    output_path = input(\"Enter the path to save the output sound file (e.g., output.wav): \").strip()\n",
    "\n",
    "    try:\n",
    "        image_data = load_image(image_path)\n",
    "        print(f\"Loaded image with shape: {image_data.shape}\")\n",
    "    except ValueError as e:\n",
    "        print(f\"Error loading image: {e}\")\n",
    "        return\n",
    "\n",
    "    print(\"Select a sonification mode:\")\n",
    "    print(\"1. Brightness-based pitch modulation\")\n",
    "    print(\"2. Color-based sound effects\")\n",
    "    print(\"3. Spatial stereo mapping\")\n",
    "    mode = int(input(\"Your choice: \"))\n",
    "    if mode not in [1, 2, 3]:\n",
    "        print(\"Invalid choice. Exiting.\")\n",
    "        return\n",
    "\n",
    "    print(\"Processing the image and generating the audio...\")\n",
    "    sound = generate_sound(image_data, mode)\n",
    "    print(\"Audio generation complete!\")\n",
    "\n",
    "    print(f\"Saving the sound file to {output_path}...\")\n",
    "    sound.export(output_path, format=\"wav\")\n",
    "    print(f\"Sound file saved successfully to {output_path}\")\n",
    "\n",
    "\n",
    "if __name__ == \"__main__\":\n",
    "    main()\n"
   ]
  },
  {
   "cell_type": "code",
   "execution_count": null,
   "id": "42b2f26f-2ee8-4455-9931-a453ac4bdac0",
   "metadata": {},
   "outputs": [],
   "source": []
  }
 ],
 "metadata": {
  "kernelspec": {
   "display_name": "Python 3 (ipykernel)",
   "language": "python",
   "name": "python3"
  },
  "language_info": {
   "codemirror_mode": {
    "name": "ipython",
    "version": 3
   },
   "file_extension": ".py",
   "mimetype": "text/x-python",
   "name": "python",
   "nbconvert_exporter": "python",
   "pygments_lexer": "ipython3",
   "version": "3.11.7"
  }
 },
 "nbformat": 4,
 "nbformat_minor": 5
}
