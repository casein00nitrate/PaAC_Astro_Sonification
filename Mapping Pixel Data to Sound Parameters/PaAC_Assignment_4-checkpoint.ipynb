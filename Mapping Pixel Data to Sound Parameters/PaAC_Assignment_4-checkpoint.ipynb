{
 "cells": [
  {
   "cell_type": "code",
   "execution_count": 1,
   "id": "8f94359e-af39-4534-bdbe-8fabafbd11a1",
   "metadata": {},
   "outputs": [
    {
     "name": "stderr",
     "output_type": "stream",
     "text": [
      "C:\\Users\\himan\\AppData\\Roaming\\Python\\Python311\\site-packages\\pydub\\utils.py:170: RuntimeWarning: Couldn't find ffmpeg or avconv - defaulting to ffmpeg, but may not work\n",
      "  warn(\"Couldn't find ffmpeg or avconv - defaulting to ffmpeg, but may not work\", RuntimeWarning)\n"
     ]
    }
   ],
   "source": [
    "import pandas as pd\n",
    "from pydub import AudioSegment\n",
    "from pydub.generators import Sine"
   ]
  },
  {
   "cell_type": "code",
   "execution_count": 2,
   "id": "bb5a1d9f-4a4c-44e0-8b4e-14801277abdf",
   "metadata": {},
   "outputs": [],
   "source": [
    "# Function to map pixel data to sound parameters\n",
    "def pixel_to_sound(red, green, blue):\n",
    "    # Map Red (0-255) to frequency (200-2000 Hz)\n",
    "    frequency = 200 + (red / 255) * (2000 - 200)\n",
    "    # Map Green (0-255) to volume (-20 to 0 dB)\n",
    "    volume = -20 + (green / 255) * 20\n",
    "    # Map Blue (0-255) to duration \n",
    "    duration = 1 + (blue / 255) * 9\n",
    "    \n",
    "    # Generate sound using Sine wave\n",
    "    sound = Sine(frequency).to_audio_segment(duration=duration).apply_gain(volume)\n",
    "    return sound"
   ]
  },
  {
   "cell_type": "code",
   "execution_count": 3,
   "id": "92fca2ef-d5d5-4786-97c1-b6786ce7a0cc",
   "metadata": {},
   "outputs": [],
   "source": [
    "# Load pixel data from CSV file\n",
    "file_path ='D:\\PaAC\\Astro Sonification\\Assignment 4\\high_res_galaxy_image_rgb.csv'  # Update with your file path\n",
    "pixel_data = pd.read_csv(file_path)\n",
    "# os.chdir (\"D:\\PaAC\\Astro Sonification\\Assignment 4\")\n",
    "# pixel_data = np.load('images.npy')"
   ]
  },
  {
   "cell_type": "code",
   "execution_count": 4,
   "id": "27288272-fef1-4ba9-b348-1050d22c9f64",
   "metadata": {},
   "outputs": [],
   "source": [
    "#Define batch size for processing\n",
    "batch_size = 500  # Adjust as needed (higher = fewer batches, lower = more manageable memory)"
   ]
  },
  {
   "cell_type": "code",
   "execution_count": 5,
   "id": "fa547b5a-beeb-49fa-950b-f996bfb6f6bf",
   "metadata": {},
   "outputs": [],
   "source": [
    "# Initialize an empty audio segment for combined sound\n",
    "combined_sound = AudioSegment.silent(duration=0)"
   ]
  },
  {
   "cell_type": "code",
   "execution_count": 6,
   "id": "dc0a76a8-19e0-4b95-ac70-f06b8e32c66b",
   "metadata": {},
   "outputs": [],
   "source": [
    "# Process the pixel data in batches\n",
    "for i in range(0, len(pixel_data), batch_size):\n",
    "    # Get the current batch of pixels\n",
    "    batch = pixel_data.iloc[i:i+batch_size]\n",
    "    \n",
    "    # Generate sounds for the current batch\n",
    "    batch_sounds = [pixel_to_sound(row.Red, row.Green, row.Blue) for _, row in batch.iterrows()]\n",
    "    \n",
    "    # Combine the batch sounds and append to the final combined sound\n",
    "    combined_sound += sum(batch_sounds)\n",
    "\n",
    "    # Save intermediate progress to avoid data loss\n",
    "    if i % 1000 == 0:  # Save progress every 1000 pixels processed\n",
    "        intermediate_output_path = f'D:\\PaAC\\Astro Sonification\\Assignment 4\\galaxy_sounds_progress_{i}.wav'\n",
    "        combined_sound.export(intermediate_output_path, format='wav')"
   ]
  },
  {
   "cell_type": "code",
   "execution_count": 7,
   "id": "46be1b3c-e669-4773-84d8-b067f0d720e9",
   "metadata": {},
   "outputs": [
    {
     "name": "stdout",
     "output_type": "stream",
     "text": [
      "Generated sound file saved at: galaxy_sounds.wav\n"
     ]
    }
   ],
   "source": [
    "# Export to a WAV file\n",
    "output_file_path = 'galaxy_sounds.wav'\n",
    "combined_sound.export('D:\\PaAC\\Astro Sonification\\Assignment 4\\galaxy_sounds.wav', format='wav')\n",
    "print(f\"Generated sound file saved at: {output_file_path}\")"
   ]
  }
 ],
 "metadata": {
  "kernelspec": {
   "display_name": "Python 3 (ipykernel)",
   "language": "python",
   "name": "python3"
  },
  "language_info": {
   "codemirror_mode": {
    "name": "ipython",
    "version": 3
   },
   "file_extension": ".py",
   "mimetype": "text/x-python",
   "name": "python",
   "nbconvert_exporter": "python",
   "pygments_lexer": "ipython3",
   "version": "3.11.7"
  }
 },
 "nbformat": 4,
 "nbformat_minor": 5
}
