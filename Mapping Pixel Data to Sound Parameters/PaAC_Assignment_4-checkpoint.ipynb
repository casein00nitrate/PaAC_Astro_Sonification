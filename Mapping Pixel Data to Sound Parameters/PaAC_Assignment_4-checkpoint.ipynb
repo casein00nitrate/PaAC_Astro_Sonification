{
 "cells": [
  {
   "cell_type": "code",
   "execution_count": 19,
   "id": "8f94359e-af39-4534-bdbe-8fabafbd11a1",
   "metadata": {},
   "outputs": [],
   "source": [
    "import pandas as pd\n",
    "from pydub import AudioSegment\n",
    "from pydub.generators import Sine"
   ]
  },
  {
   "cell_type": "code",
   "execution_count": 20,
   "id": "bb5a1d9f-4a4c-44e0-8b4e-14801277abdf",
   "metadata": {},
   "outputs": [],
   "source": [
    "# Function to map pixel data to sound parameters\n",
    "def pixel_to_sound(red, green, blue):\n",
    "    # Map Red (0-255) to frequency (200-2000 Hz)\n",
    "    frequency = 200 + (red / 255) * (2000 - 200)\n",
    "    # Map Green (0-255) to volume (-20 to 0 dB)\n",
    "    volume = -20 + (green / 255) * 20\n",
    "    # Map Blue (0-255) to duration (100-1000 ms)\n",
    "    duration = 100 + (blue / 255) * 900\n",
    "    \n",
    "    # Generate sound using Sine wave\n",
    "    sound = Sine(frequency).to_audio_segment(duration=duration).apply_gain(volume)\n",
    "    return sound"
   ]
  },
  {
   "cell_type": "code",
   "execution_count": 21,
   "id": "92fca2ef-d5d5-4786-97c1-b6786ce7a0cc",
   "metadata": {},
   "outputs": [],
   "source": [
    "# Load pixel data from CSV file\n",
    "file_path ='D:\\PaAC\\Astro Sonification\\Assignment 4\\high_res_galaxy_image_rgb.csv'  # Update with your file path\n",
    "pixel_data = pd.read_csv(file_path)\n",
    "# os.chdir (\"D:\\PaAC\\Astro Sonification\\Assignment 4\")\n",
    "# pixel_data = np.load('images.npy')"
   ]
  },
  {
   "cell_type": "code",
   "execution_count": 22,
   "id": "27288272-fef1-4ba9-b348-1050d22c9f64",
   "metadata": {},
   "outputs": [],
   "source": [
    "# Generate sounds for the first five pixels\n",
    "test_sounds = [pixel_to_sound(row.Red, row.Green, row.Blue) for _, row in pixel_data.head().iterrows()]"
   ]
  },
  {
   "cell_type": "code",
   "execution_count": 23,
   "id": "0848ba57-6857-4dec-a5ef-f0ea48b9b09d",
   "metadata": {},
   "outputs": [],
   "source": [
    "# Combine sounds into a single audio file\n",
    "combined_sound = sum(test_sounds)"
   ]
  },
  {
   "cell_type": "code",
   "execution_count": 24,
   "id": "46be1b3c-e669-4773-84d8-b067f0d720e9",
   "metadata": {},
   "outputs": [
    {
     "name": "stdout",
     "output_type": "stream",
     "text": [
      "Generated sound file saved at: galaxy_sounds_demo.wav\n"
     ]
    }
   ],
   "source": [
    "# Export to a WAV file\n",
    "output_file_path = 'galaxy_sounds_demo.wav'\n",
    "combined_sound.export('D:\\PaAC\\Astro Sonification\\Assignment 4\\galaxy_sounds_demo.wav', format='wav')\n",
    "print(f\"Generated sound file saved at: {output_file_path}\")"
   ]
  }
 ],
 "metadata": {
  "kernelspec": {
   "display_name": "Python 3 (ipykernel)",
   "language": "python",
   "name": "python3"
  },
  "language_info": {
   "codemirror_mode": {
    "name": "ipython",
    "version": 3
   },
   "file_extension": ".py",
   "mimetype": "text/x-python",
   "name": "python",
   "nbconvert_exporter": "python",
   "pygments_lexer": "ipython3",
   "version": "3.11.7"
  }
 },
 "nbformat": 4,
 "nbformat_minor": 5
}
